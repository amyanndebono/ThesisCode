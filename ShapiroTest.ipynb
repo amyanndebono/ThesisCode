{
 "cells": [
  {
   "cell_type": "code",
   "execution_count": null,
   "metadata": {},
   "outputs": [],
   "source": [
    "import cv2 \n",
    "import numpy as np \n",
    "from scipy import stats\n",
    "import os"
   ]
  },
  {
   "cell_type": "code",
   "execution_count": null,
   "metadata": {},
   "outputs": [],
   "source": [
    "#Paths need to be changed according to data set being used. \n",
    "dir_path = \"../DataSet\" \n",
    "actions = np.array(os.listdir(dir_path))\n",
    "\n",
    "\n",
    "results_path = os.path.join('data_results')\n",
    "\n",
    "\n",
    "\n",
    "for action in actions: \n",
    "    num_of_videos = os.listdir(dir_path+'/'+action)\n",
    "    for video in range(len(num_of_videos)): \n",
    "        try: \n",
    "            os.makedirs(os.path.join(results_path, action, str(video)))\n",
    "        except: \n",
    "            pass \n"
   ]
  },
  {
   "cell_type": "code",
   "execution_count": null,
   "metadata": {},
   "outputs": [],
   "source": [
    "\n",
    "missing_files = []\n",
    "sequences, labels = [], []\n",
    "\n",
    "for action in actions: \n",
    "    file_list = os.listdir(dir_path+\"/\"+action)\n",
    "\n",
    "    for video in range(len(file_list)): \n",
    "        window = []\n",
    "        filename = file_list[video]\n",
    "        cap = cv2.VideoCapture(dir_path+\"/\"+action+\"/\"+filename)\n",
    "        num_of_frames = int(cap.get(cv2.CAP_PROP_FRAME_COUNT))\n",
    "\n",
    "        for frame_num in range(num_of_frames): \n",
    "            try: \n",
    "                res = np.load(os.path.join(results_path, action, str(video), \"{}.npy\".format(frame_num)))\n",
    "                print(res)\n",
    "                window.append(res)\n",
    "                print(\"window\")\n",
    "                print(window)\n",
    "            except FileNotFoundError: \n",
    "                missing_files.append(action + '/' + str(video)+ '/' +str(frame_num))\n",
    "                print(\"Missing \")\n",
    "                print(missing_files)\n",
    "                continue\n",
    "        sequences.append(window)\n",
    "        labels.append(action)"
   ]
  },
  {
   "cell_type": "code",
   "execution_count": null,
   "metadata": {},
   "outputs": [],
   "source": [
    "X = np.array(sequences)\n"
   ]
  },
  {
   "cell_type": "code",
   "execution_count": null,
   "metadata": {},
   "outputs": [],
   "source": [
    "shapiro_test = stats.shapiro(X.all())\n",
    "print(f\"Statistic: {shapiro_test.statistic}, p-value: {shapiro_test.pvalue}\")"
   ]
  }
 ],
 "metadata": {
  "language_info": {
   "name": "python"
  },
  "orig_nbformat": 4
 },
 "nbformat": 4,
 "nbformat_minor": 2
}
