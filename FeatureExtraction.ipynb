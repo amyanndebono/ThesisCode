{
 "cells": [
  {
   "cell_type": "code",
   "execution_count": null,
   "metadata": {},
   "outputs": [],
   "source": [
    "import cv2 \n",
    "import numpy as np \n",
    "import os\n",
    "from matplotlib import pyplot as plt \n",
    "import time \n",
    "import mediapipe as mp \n",
    "import shutil\n"
   ]
  },
  {
   "cell_type": "code",
   "execution_count": null,
   "metadata": {},
   "outputs": [],
   "source": [
    "mp_holistic = mp.solutions.holistic\n",
    "mp_drawing = mp.solutions.drawing_utils"
   ]
  },
  {
   "cell_type": "code",
   "execution_count": null,
   "metadata": {},
   "outputs": [],
   "source": [
    "def mediapipe_detection(image, model): \n",
    "    image = cv2.cvtColor(image, cv2.COLOR_BGR2RGB) # Color Conversion BGR 2 RGB \n",
    "    image.flags.writeable = False  #Image is no longer writeable \n",
    "    results = model.process(image) # Make predicition\n",
    "    image.flags.writeable = True # Image is now writeable \n",
    "    image = cv2.cvtColor(image, cv2.COLOR_RGB2BGR) # Color Conversion RGB 2 BGR \n",
    "    return image,results"
   ]
  },
  {
   "cell_type": "code",
   "execution_count": null,
   "metadata": {},
   "outputs": [],
   "source": [
    "def draw_landmarks(image, results): \n",
    "    # Draw Face Connections\n",
    "    #The 4th parameter is going to draw the landmarks and the 5th the connections\n",
    "    mp_drawing.draw_landmarks(image, results.face_landmarks, mp_holistic.FACE_CONNECTIONS, \n",
    "                              mp_drawing.DrawingSpec(color=(80,110,10), thickness=1, circle_radius = 1 ), \n",
    "                              mp_drawing.DrawingSpec(color=(80,256,51), thickness=1, circle_radius=1)) \n",
    "    # Draw Pose Connections \n",
    "    mp_drawing.draw_landmarks(image, results.pose_landmarks, mp_holistic.POSE_CONNECTIONS,\n",
    "                             mp_drawing.DrawingSpec(color=(80,22,10), thickness=2, circle_radius = 4 ), \n",
    "                             mp_drawing.DrawingSpec(color=(80,44,121), thickness=2, circle_radius=2))\n",
    "    # Draw left hand connections\n",
    "    mp_drawing.draw_landmarks(image, results.left_hand_landmarks, mp_holistic.HAND_CONNECTIONS, \n",
    "                              mp_drawing.DrawingSpec(color=(121,22,76), thickness=2, circle_radius = 4 ), \n",
    "                              mp_drawing.DrawingSpec(color=(121,44,250), thickness=2, circle_radius=2)) \n",
    "    # Draw right hand connections\n",
    "    mp_drawing.draw_landmarks(image, results.right_hand_landmarks, mp_holistic.HAND_CONNECTIONS, \n",
    "                              mp_drawing.DrawingSpec(color=(245,117,66), thickness=2, circle_radius = 4 ), \n",
    "                              mp_drawing.DrawingSpec(color=(245,66,230), thickness=2, circle_radius=2)\n",
    "                              ) "
   ]
  },
  {
   "cell_type": "code",
   "execution_count": null,
   "metadata": {},
   "outputs": [],
   "source": [
    "# Extracting the keypoints \n",
    "def extract_keypoints(results): \n",
    "    pose = np.array([[res.x, res.y, res.z, res.visibility] for res in results.pose_landmarks.landmark]).flatten() if results.pose_landmarks else np.zeros(33*4)\n",
    "    face = np.array([[res.x, res.y, res.z] for res in results.face_landmarks.landmark]).flatten() if results.face_landmarks else np.zeros(468*3)\n",
    "\n",
    "    lh = np.array([[res.x, res.y, res.z] for res in results.left_hand_landmarks.landmark]).flatten() if results.left_hand_landmarks else np.zeros(21*3)\n",
    "    rh = np.array([[res.x, res.y, res.z] for res in results.right_hand_landmarks.landmark]).flatten() if results.right_hand_landmarks else np.zeros(21*3)\n",
    " \n",
    "    return np.concatenate([pose,face,lh,rh])"
   ]
  },
  {
   "cell_type": "code",
   "execution_count": null,
   "metadata": {},
   "outputs": [],
   "source": [
    "dir_path = \"../DataSet\" \n",
    "actions = np.array(os.listdir(dir_path))\n",
    "\n",
    "\n",
    "results_path = os.path.join('data_results')\n",
    "\n",
    "\n",
    "\n",
    "for action in actions: \n",
    "    num_of_videos = os.listdir(dir_path+'/'+action)\n",
    "    for video in range(len(num_of_videos)): \n",
    "        try: \n",
    "            os.makedirs(os.path.join(results_path, action, str(video)))\n",
    "        except: \n",
    "            pass \n"
   ]
  },
  {
   "cell_type": "code",
   "execution_count": null,
   "metadata": {},
   "outputs": [],
   "source": [
    "holistic = mp_holistic.Holistic(min_detection_confidence=0.5, min_tracking_confidence=0.5) \n",
    "test_actions = ['Blue','Happy','Man', 'Family']\n",
    "for action in test_actions: \n",
    "    file_list = os.listdir(dir_path+'/'+action)\n",
    "    num_files = len(file_list)\n",
    "\n",
    "    for file in range(num_files):\n",
    "        file_name = file_list[file]\n",
    "        cap = cv2.VideoCapture(dir_path+'/'+action+'/'+file_name)\n",
    "        num_of_frames = int(cap.get(cv2.CAP_PROP_FRAME_COUNT))\n",
    "\n",
    "        for i in range(num_of_frames): \n",
    "            ret, frame = cap.read()\n",
    "\n",
    "            if not ret:\n",
    "                break \n",
    "\n",
    "            image, results = mediapipe_detection(frame, holistic)\n",
    "            cv2.imshow('',image)\n",
    "            print(results)\n",
    "\n",
    "            draw_landmarks(image,results)\n",
    "\n",
    "            keypoints = extract_keypoints(results)\n",
    "            npy_path = os.path.join(results_path, action, str(file), str(i) )\n",
    "            np.save(npy_path, keypoints)\n",
    "\n",
    "cap.release()\n",
    "cv2.destroyAllWindows()\n"
   ]
  }
 ],
 "metadata": {
  "language_info": {
   "name": "python"
  },
  "orig_nbformat": 4
 },
 "nbformat": 4,
 "nbformat_minor": 2
}
