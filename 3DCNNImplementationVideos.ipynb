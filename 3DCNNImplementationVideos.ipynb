{
 "cells": [
  {
   "cell_type": "code",
   "execution_count": 2,
   "metadata": {},
   "outputs": [],
   "source": [
    "import numpy as np \n",
    "import os\n",
    "import cv2"
   ]
  },
  {
   "cell_type": "code",
   "execution_count": 3,
   "metadata": {},
   "outputs": [],
   "source": [
    "dir_path = \"../DataSet\" \n",
    "actions = np.array(os.listdir(dir_path))\n",
    "\n"
   ]
  },
  {
   "attachments": {},
   "cell_type": "markdown",
   "metadata": {},
   "source": [
    "## formatting the data"
   ]
  },
  {
   "cell_type": "code",
   "execution_count": 4,
   "metadata": {},
   "outputs": [],
   "source": [
    "#Pre processing data and creating labels \n",
    "from tensorflow.keras.utils import to_categorical\n",
    "\n",
    "\n",
    "label_map = {label: num for num, label in enumerate(actions)}"
   ]
  },
  {
   "cell_type": "code",
   "execution_count": 5,
   "metadata": {},
   "outputs": [
    {
     "name": "stdout",
     "output_type": "stream",
     "text": [
      "{'Blue': 0, 'Family': 1, 'Happy': 2, 'Man': 3}\n"
     ]
    }
   ],
   "source": [
    "print(label_map)"
   ]
  },
  {
   "cell_type": "code",
   "execution_count": 5,
   "metadata": {},
   "outputs": [],
   "source": [
    "\n",
    "labels = []\n",
    "\n",
    "for action in actions: \n",
    "    file_list = os.listdir(dir_path+\"/\"+action)\n",
    "\n",
    "    for video in range(len(file_list)): \n",
    "        labels.append(label_map[action])\n"
   ]
  },
  {
   "cell_type": "code",
   "execution_count": 6,
   "metadata": {},
   "outputs": [],
   "source": [
    "import pandas as pd\n",
    "test_actions = ['Blue','Happy','Man', 'Family']\n",
    "\n",
    "video_features = []\n",
    "for action in test_actions: \n",
    "    file_list = os.listdir(dir_path+'/'+action)\n",
    "    num_files = len(file_list)\n",
    "       \n",
    "    for file in range(num_files):\n",
    "        file_name = file_list[file]\n",
    "        cap = cv2.VideoCapture(dir_path+'/'+action+'/'+file_name)\n",
    "\n",
    "        frames = []\n",
    "        while True:\n",
    "            ret, frame = cap.read()\n",
    "            if not ret:\n",
    "                break\n",
    "            frames.append(frame)\n",
    "        cap.release()\n",
    "        features = np.array(frames)\n",
    "\n",
    "        video_features.append(features)\n",
    "\n",
    "df = pd.DataFrame({'class': labels, 'features': video_features})\n"
   ]
  },
  {
   "cell_type": "code",
   "execution_count": 7,
   "metadata": {},
   "outputs": [
    {
     "name": "stderr",
     "output_type": "stream",
     "text": [
      "c:\\Users\\amyan\\anaconda3\\envs\\IPCV\\lib\\site-packages\\ipykernel_launcher.py:29: VisibleDeprecationWarning: Creating an ndarray from ragged nested sequences (which is a list-or-tuple of lists-or-tuples-or ndarrays with different lengths or shapes) is deprecated. If you meant to do this, you must specify 'dtype=object' when creating the ndarray\n"
     ]
    }
   ],
   "source": [
    "import pandas as pd\n",
    "# from keras.applications.vgg16 import VGG16\n",
    "\n",
    "# vgg16_model = VGG16(weights ='imagenet', include_top=False, input_shape=(224, 224, 3))\n",
    "test_actions = ['Blue','Happy','Man', 'Family']\n",
    "\n",
    "video_features = []\n",
    "for action in test_actions: \n",
    "    file_list = os.listdir(dir_path+'/'+action)\n",
    "    num_files = len(file_list)\n",
    "       \n",
    "    for file in range(num_files):\n",
    "        file_name = file_list[file]\n",
    "        cap = cv2.VideoCapture(dir_path+'/'+action+'/'+file_name)\n",
    "\n",
    "        frames = []\n",
    "        while True:\n",
    "            ret, frame = cap.read()\n",
    "            if not ret:\n",
    "                break\n",
    "            frame = cv2.resize(frame,(224,224))\n",
    "            frames.append(frame)\n",
    "        cap.release()\n",
    "        features = np.array(frames)\n",
    "        # features = np.mean(features, axis=(1,2))\n",
    "\n",
    "        video_features.append(features)\n",
    "\n",
    "video_features = np.array(video_features)\n",
    "df = pd.DataFrame({'class': labels, 'features': video_features})\n",
    "df = df.sample(frac=1).reset_index(drop=True)"
   ]
  },
  {
   "cell_type": "code",
   "execution_count": 8,
   "metadata": {},
   "outputs": [],
   "source": [
    "df.to_csv('video_features.csv')"
   ]
  },
  {
   "cell_type": "code",
   "execution_count": 8,
   "metadata": {},
   "outputs": [],
   "source": [
    "from sklearn.model_selection import train_test_split\n",
    "train_df, test_df = train_test_split(df, test_size=0.1)"
   ]
  },
  {
   "cell_type": "code",
   "execution_count": 9,
   "metadata": {},
   "outputs": [],
   "source": [
    "from tensorflow.keras.preprocessing.sequence import pad_sequences\n",
    "\n",
    "train_df_features = pad_sequences(train_df['features'], maxlen=72, padding='post')\n"
   ]
  },
  {
   "cell_type": "code",
   "execution_count": 10,
   "metadata": {},
   "outputs": [],
   "source": [
    "train_df_labels= train_df['class'].values"
   ]
  },
  {
   "cell_type": "code",
   "execution_count": 11,
   "metadata": {},
   "outputs": [],
   "source": [
    "train_df_labels_one_hot = to_categorical(train_df_labels, num_classes=4)"
   ]
  },
  {
   "cell_type": "code",
   "execution_count": 12,
   "metadata": {},
   "outputs": [],
   "source": [
    "test_df_labels= test_df['class'].values"
   ]
  },
  {
   "cell_type": "code",
   "execution_count": 13,
   "metadata": {},
   "outputs": [],
   "source": [
    "test_df = pad_sequences(test_df['features'], maxlen=72, padding='post')"
   ]
  },
  {
   "attachments": {},
   "cell_type": "markdown",
   "metadata": {},
   "source": [
    "## Training the model"
   ]
  },
  {
   "cell_type": "code",
   "execution_count": 14,
   "metadata": {},
   "outputs": [],
   "source": [
    "from tensorflow.keras.models import Sequential\n",
    "from tensorflow.keras.layers import Conv3D, Dense , Masking, Flatten, MaxPooling3D, Reshape, Conv2D, MaxPooling2D"
   ]
  },
  {
   "cell_type": "code",
   "execution_count": 15,
   "metadata": {},
   "outputs": [],
   "source": [
    "model = Sequential()\n",
    "# model.add(Masking(mask_value=-999, input_shape =input_shape))\n",
    "model.add(Masking(mask_value=0, input_shape =train_df_features.shape[1:]))\n",
    "\n",
    "model.add(Conv3D(16, kernel_size=(3,3,3), activation='relu',input_shape =train_df_features.shape[1:]))\n",
    "# model.add(Reshape((train_df_features.shape[0], train_df_features.shape[1], train_df_features.shape[2], -1)))\n",
    "model.add(MaxPooling3D(pool_size=(2,2,2)))\n",
    "model.add(Conv3D(32, kernel_size=(3,3,3), activation = 'relu',  padding='same'))\n",
    "model.add(MaxPooling3D(pool_size=(2,2,2)))\n",
    "model.add(Flatten())\n",
    "model.add(Dense(128, activation = 'relu'))\n",
    "model.add(Dense(actions.shape[0], activation='softmax'))"
   ]
  },
  {
   "cell_type": "code",
   "execution_count": 16,
   "metadata": {},
   "outputs": [],
   "source": [
    "model.compile(optimizer='Adam', loss='categorical_crossentropy', metrics=['accuracy'])"
   ]
  },
  {
   "cell_type": "code",
   "execution_count": 17,
   "metadata": {},
   "outputs": [
    {
     "name": "stdout",
     "output_type": "stream",
     "text": [
      "Model: \"sequential\"\n",
      "_________________________________________________________________\n",
      "Layer (type)                 Output Shape              Param #   \n",
      "=================================================================\n",
      "masking (Masking)            (None, 72, 224, 224, 3)   0         \n",
      "_________________________________________________________________\n",
      "conv3d (Conv3D)              (None, 70, 222, 222, 16)  1312      \n",
      "_________________________________________________________________\n",
      "max_pooling3d (MaxPooling3D) (None, 35, 111, 111, 16)  0         \n",
      "_________________________________________________________________\n",
      "conv3d_1 (Conv3D)            (None, 35, 111, 111, 32)  13856     \n",
      "_________________________________________________________________\n",
      "max_pooling3d_1 (MaxPooling3 (None, 17, 55, 55, 32)    0         \n",
      "_________________________________________________________________\n",
      "flatten (Flatten)            (None, 1645600)           0         \n",
      "_________________________________________________________________\n",
      "dense (Dense)                (None, 128)               210636928 \n",
      "_________________________________________________________________\n",
      "dense_1 (Dense)              (None, 4)                 516       \n",
      "=================================================================\n",
      "Total params: 210,652,612\n",
      "Trainable params: 210,652,612\n",
      "Non-trainable params: 0\n",
      "_________________________________________________________________\n"
     ]
    }
   ],
   "source": [
    "model.summary()"
   ]
  },
  {
   "cell_type": "code",
   "execution_count": 94,
   "metadata": {},
   "outputs": [
    {
     "data": {
      "text/plain": [
       "(108, 72, 224, 224, 3)"
      ]
     },
     "execution_count": 94,
     "metadata": {},
     "output_type": "execute_result"
    }
   ],
   "source": [
    "train_df.shape"
   ]
  },
  {
   "cell_type": "code",
   "execution_count": 137,
   "metadata": {},
   "outputs": [
    {
     "data": {
      "text/plain": [
       "(108, 72, 224, 224, 3)"
      ]
     },
     "execution_count": 137,
     "metadata": {},
     "output_type": "execute_result"
    }
   ],
   "source": [
    "train_df_features.shape"
   ]
  },
  {
   "cell_type": "code",
   "execution_count": 138,
   "metadata": {},
   "outputs": [
    {
     "data": {
      "text/plain": [
       "(108,)"
      ]
     },
     "execution_count": 138,
     "metadata": {},
     "output_type": "execute_result"
    }
   ],
   "source": [
    "train_df_labels.shape"
   ]
  },
  {
   "cell_type": "code",
   "execution_count": 18,
   "metadata": {},
   "outputs": [
    {
     "name": "stdout",
     "output_type": "stream",
     "text": [
      "Epoch 1/2000\n"
     ]
    },
    {
     "ename": "",
     "evalue": "",
     "output_type": "error",
     "traceback": [
      "\u001b[1;31mCanceled future for execute_request message before replies were done"
     ]
    },
    {
     "ename": "",
     "evalue": "",
     "output_type": "error",
     "traceback": [
      "\u001b[1;31mThe Kernel crashed while executing code in the the current cell or a previous cell. Please review the code in the cell(s) to identify a possible cause of the failure. Click <a href='https://aka.ms/vscodeJupyterKernelCrash'>here</a> for more info. View Jupyter <a href='command:jupyter.viewOutput'>log</a> for further details."
     ]
    }
   ],
   "source": [
    "model.fit(train_df_features,train_df_labels_one_hot, epochs=2000)"
   ]
  }
 ],
 "metadata": {
  "kernelspec": {
   "display_name": "Python (IPCV)",
   "language": "python",
   "name": "ipcv"
  },
  "language_info": {
   "codemirror_mode": {
    "name": "ipython",
    "version": 3
   },
   "file_extension": ".py",
   "mimetype": "text/x-python",
   "name": "python",
   "nbconvert_exporter": "python",
   "pygments_lexer": "ipython3",
   "version": "3.6.12"
  },
  "orig_nbformat": 4
 },
 "nbformat": 4,
 "nbformat_minor": 2
}
