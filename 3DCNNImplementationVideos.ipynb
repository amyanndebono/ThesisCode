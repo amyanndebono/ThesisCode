{
 "cells": [
  {
   "cell_type": "code",
   "execution_count": null,
   "metadata": {},
   "outputs": [],
   "source": [
    "import numpy as np \n",
    "import os\n",
    "import cv2\n",
    "import matplotlib.pyplot as plt\n",
    "import seaborn as sns\n",
    "from tensorflow.keras.utils import to_categorical\n",
    "from sklearn.model_selection import train_test_split\n",
    "from tensorflow.keras.preprocessing.sequence import pad_sequences\n",
    "import torch\n",
    "import torch.nn as nn\n",
    "import torch.optim as optim\n",
    "from torch.utils.data import DataLoader, TensorDataset\n",
    "import torch.nn.utils.rnn as rnn_utils\n",
    "import optuna \n",
    "from sklearn.metrics import confusion_matrix, classification_report \n"
   ]
  },
  {
   "cell_type": "code",
   "execution_count": null,
   "metadata": {},
   "outputs": [],
   "source": [
    "dir_path = \"../DataSet\" \n",
    "actions = np.array(os.listdir(dir_path))"
   ]
  },
  {
   "attachments": {},
   "cell_type": "markdown",
   "metadata": {},
   "source": [
    "## formatting the data"
   ]
  },
  {
   "cell_type": "code",
   "execution_count": null,
   "metadata": {},
   "outputs": [],
   "source": [
    "#Pre processing data and creating labels \n",
    "\n",
    "label_map = {label: num for num, label in enumerate(actions)}"
   ]
  },
  {
   "cell_type": "code",
   "execution_count": null,
   "metadata": {},
   "outputs": [],
   "source": [
    "labels = []\n",
    "\n",
    "for action in actions: \n",
    "    file_list = os.listdir(dir_path+\"/\"+action)\n",
    "    for video in range(len(file_list)): \n",
    "        labels.append(label_map[action])\n"
   ]
  },
  {
   "cell_type": "code",
   "execution_count": null,
   "metadata": {},
   "outputs": [],
   "source": [
    "def extract_frames_and_resize(video_path, frame_size=(244,244)): \n",
    "    frames = []\n",
    "    lengths = []\n",
    "    cap = cv2.VideoCapture(video_path)\n",
    "    while True: \n",
    "        ret,frame = cap.read()\n",
    "        if not ret: \n",
    "            break \n",
    "        frame = cv2.resize(frame, frame_size)\n",
    "        frames.append(frame)\n",
    "        lengths.append(len(frame))\n",
    " \n",
    "    cap.release()\n",
    "    return frames, lengths\n"
   ]
  },
  {
   "cell_type": "code",
   "execution_count": null,
   "metadata": {},
   "outputs": [],
   "source": [
    "data = []\n",
    "for action in actions: \n",
    "    file_list = os.listdir(dir_path+'/'+action)\n",
    "    num_files = len(file_list)\n",
    "       \n",
    "    for file in file_list:\n",
    "        file_path = os.path.join(dir_path, action, file)\n",
    "        frames, lengths = extract_frames_and_resize(file_path)\n",
    "\n",
    "        data.append(frames)\n",
    "    "
   ]
  },
  {
   "cell_type": "code",
   "execution_count": null,
   "metadata": {},
   "outputs": [],
   "source": [
    "data = np.array(data, dtype=list)\n",
    "labels = np.array(labels)"
   ]
  },
  {
   "cell_type": "code",
   "execution_count": null,
   "metadata": {},
   "outputs": [],
   "source": [
    "\n",
    "data = pad_sequences(data, padding='post')\n",
    "train_data, test_data, train_labels, test_labels = train_test_split(data, labels, test_size=0.1, random_state=42, stratify=labels )\n"
   ]
  },
  {
   "cell_type": "code",
   "execution_count": null,
   "metadata": {},
   "outputs": [],
   "source": [
    "\n",
    "\n",
    "device = torch.device(\"cpu\")\n",
    "lengths_tensor = torch.tensor(lengths)\n",
    "\n",
    "train_features = torch.tensor(train_data).float().to(device)\n",
    "train_labels = torch.tensor(train_labels).long().to(device)\n",
    "\n",
    "test_features = torch.tensor(test_data).float().to(device)\n",
    "test_labels = torch.tensor(test_labels).long().to(device)\n",
    "\n",
    "threshold = 0 "
   ]
  },
  {
   "cell_type": "code",
   "execution_count": null,
   "metadata": {},
   "outputs": [],
   "source": [
    "\n",
    "\n",
    "class Model(nn.Module):\n",
    "    def __init__(self, num_classes, num_hidden1, num_hidden2):\n",
    "        super(Model, self).__init__()\n",
    "        self.conv1 = nn.Conv3d(72, num_hidden1, kernel_size=(3, 3, 3), stride=1, padding=0)\n",
    "        self.pool1 = nn.AdaptiveMaxPool3d((None,112,112))\n",
    "        self.conv2 = nn.Conv3d(num_hidden1, num_hidden2, kernel_size=(3, 3, 3), stride=1, padding=1)\n",
    "        self.pool2 = nn.AdaptiveMaxPool3d((None, 56,56))\n",
    "        self.flatten = nn.Flatten()\n",
    "        \n",
    "        num_features = num_hidden2*56*56\n",
    "        self.fc1 = nn.Linear(num_features, 128) \n",
    "        self.fc2 = nn.Linear(128, num_classes)\n",
    "        self.mask = None \n",
    "    \n",
    "    def apply_mask(self, x, mask): \n",
    "        return x * mask\n",
    "    \n",
    "    def forward(self, x, mask=None):\n",
    "        if mask is not None: \n",
    "            x= self.apply_mask(x,mask)\n",
    "        x = x.permute(0, 1, 4, 2, 3)  \n",
    "        x = self.conv1(x)\n",
    "        x = torch.relu(x)\n",
    "        x = self.pool1(x)\n",
    "        x = self.conv2(x)\n",
    "        x = torch.relu(x)\n",
    "        x = self.pool2(x)\n",
    "        x = self.flatten(x)\n",
    "        x = self.fc1(x)\n",
    "        x = torch.relu(x)\n",
    "        x = self.fc2(x)\n",
    "        return nn.functional.softmax(x, dim=1)\n",
    "\n",
    "\n",
    "\n",
    "\n"
   ]
  },
  {
   "cell_type": "code",
   "execution_count": null,
   "metadata": {},
   "outputs": [],
   "source": [
    "model = Model(actions.shape[0],48,64).to(device)\n",
    "\n",
    "criterion = nn.CrossEntropyLoss()\n",
    "optimizer = optim.Adam(model.parameters(), lr=0.01)"
   ]
  },
  {
   "cell_type": "code",
   "execution_count": null,
   "metadata": {},
   "outputs": [],
   "source": [
    "train_dataset = TensorDataset(train_features, train_labels)\n",
    "train_loader = DataLoader(train_dataset, batch_size=82, shuffle=True)  \n",
    "\n",
    "test_dataset = TensorDataset(test_features, test_labels)\n",
    "test_loader = DataLoader(test_dataset, batch_size=82, shuffle=False)\n"
   ]
  },
  {
   "attachments": {},
   "cell_type": "markdown",
   "metadata": {},
   "source": [
    "## Hyper parameter tuning\n"
   ]
  },
  {
   "cell_type": "code",
   "execution_count": null,
   "metadata": {},
   "outputs": [],
   "source": [
    "accumulation_steps = 4 \n",
    "num_epochs = 500\n",
    "def train_and_evaluate_model(trial, train_loader, test_loader): \n",
    "    learning_rate = trial.suggest_categorical(\"learning_rate\", [0.001, 0.01])\n",
    "    num_hidden1 = trial.suggest_int(\"num_hidden1\",16,64, step=16 )\n",
    "    num_hidden2 = trial.suggest_int(\"num_hidden2\", 16, 64, step=16)\n",
    "    \n",
    "    model = Model(actions.shape[0], num_hidden1, num_hidden2).to(device)\n",
    "    criterion = nn.CrossEntropyLoss()\n",
    "    optimizer = optim.Adam(model.parameters(), lr= learning_rate)\n",
    "    for epoch in range(num_epochs):\n",
    "        running_loss = 0.0\n",
    "        correct = 0\n",
    "        total = 0\n",
    "        for i, (features, labels) in enumerate(train_loader):\n",
    "            features = features.to(device)\n",
    "            labels = labels.to(device)\n",
    "            \n",
    "            mask_tensor = (features > threshold).float().to(device)\n",
    "            outputs = model(features,mask_tensor)\n",
    "            loss = criterion(outputs, train_labels)\n",
    "            loss = loss / accumulation_steps\n",
    "            loss.backward()\n",
    "\n",
    "            if (i + 1) % accumulation_steps == 0:\n",
    "                optimizer.step()\n",
    "                optimizer.zero_grad()\n",
    "\n",
    "            running_loss += loss.item() * accumulation_steps\n",
    "             \n",
    "\n",
    "\n",
    "            _, predicted = torch.max(outputs.data, 1)\n",
    "            total += labels.size(0)\n",
    "            correct += (predicted ==labels).sum().item()\n",
    "        epoch_loss = running_loss / (i + 1)\n",
    "        epoch_acc = 100 * correct / total\n",
    "        print(f\"Epoch [{epoch + 1}/{num_epochs}], Loss: {epoch_loss:.4f}, Accuracy: {epoch_acc:.2f}%\")\n",
    "    correct_test = 0\n",
    "    total_test = 0\n",
    "\n",
    "    # Set the model to evaluation mode\n",
    "    model.eval()\n",
    "\n",
    "    # Calculate accuracy on the training set\n",
    "    with torch.no_grad():\n",
    "        for features, labels in test_loader:\n",
    "            features = features.to(device)\n",
    "            labels = labels.to(device)\n",
    "\n",
    "            # Forward pass\n",
    "            outputs = model(features)\n",
    "\n",
    "            # Get the predicted class labels\n",
    "            _, predicted = torch.max(outputs, 1)\n",
    "\n",
    "            # Get the ground truth class labels\n",
    "            true_labels = labels\n",
    "\n",
    "            # Update the count of total and correct predictions\n",
    "            total_test += true_labels.size(0)\n",
    "            correct_test += (predicted == true_labels).sum().item()\n",
    "\n",
    "    # Calculate the accuracy\n",
    "    accuracy = 100 * correct_test / total_test\n",
    "\n",
    "    print(f'Validation accuracy: {accuracy}%')\n",
    "    \n",
    "    return accuracy \n",
    "    \n"
   ]
  },
  {
   "cell_type": "code",
   "execution_count": null,
   "metadata": {},
   "outputs": [],
   "source": [
    "\n",
    "study = optuna.create_study(direction=\"maximize\")\n",
    "study.optimize(lambda trial: train_and_evaluate_model(trial, train_loader, test_loader), n_trials=10)\n",
    "\n",
    "print(\"Best trial:\")\n",
    "print(\"  Params: \", study.best_trial.params)\n",
    "print(\"  Validation accuracy: \", study.best_trial.value)"
   ]
  },
  {
   "attachments": {},
   "cell_type": "markdown",
   "metadata": {},
   "source": [
    "## Training the model"
   ]
  },
  {
   "cell_type": "code",
   "execution_count": null,
   "metadata": {},
   "outputs": [],
   "source": [
    "accumulation_steps = 4\n",
    "num_epochs = 500\n",
    "\n",
    "for epoch in range(num_epochs):\n",
    "    running_loss = 0.0\n",
    "    correct = 0\n",
    "    total = 0\n",
    "    for i, (features, labels) in enumerate(train_loader):\n",
    "        features = features.to(device)\n",
    "        labels = labels.to(device)\n",
    "        \n",
    "        mask_tensor = (features > threshold).float().to(device)\n",
    "        outputs = model(features,mask_tensor)\n",
    "        loss = criterion(outputs, labels)\n",
    "        loss = loss / accumulation_steps\n",
    "        loss.backward()\n",
    "\n",
    "        if (i + 1) % accumulation_steps == 0:\n",
    "            optimizer.step()\n",
    "            optimizer.zero_grad()\n",
    "\n",
    "        running_loss += loss.item() * accumulation_steps\n",
    "\n",
    "        _, predicted = torch.max(outputs.data, 1)\n",
    "        total += labels.size(0)\n",
    "        correct += (predicted == labels).sum().item()\n",
    "\n",
    "    epoch_loss = running_loss / (i + 1)\n",
    "    epoch_acc = 100 * correct / total\n",
    "    print(f\"Epoch [{epoch + 1}/{num_epochs}], Loss: {epoch_loss:.4f}, Accuracy: {epoch_acc:.2f}%\")\n"
   ]
  },
  {
   "cell_type": "code",
   "execution_count": null,
   "metadata": {},
   "outputs": [],
   "source": [
    "correct = 0\n",
    "total = 0\n",
    "\n",
    "# Set the model to evaluation mode\n",
    "model.eval()\n",
    "\n",
    "# Calculate accuracy on the training set\n",
    "with torch.no_grad():\n",
    "    for features, labels in test_loader:\n",
    "        features = features.to(device)\n",
    "        labels = labels.to(device)\n",
    "\n",
    "        # Forward pass\n",
    "        outputs = model(features)\n",
    "\n",
    "        # Get the predicted class labels\n",
    "        _, predicted = torch.max(outputs, 1)\n",
    "\n",
    "        # Get the ground truth class labels\n",
    "        true_labels = labels\n",
    "\n",
    "        # Update the count of total and correct predictions\n",
    "        total += true_labels.size(0)\n",
    "        correct += (predicted == true_labels).sum().item()\n",
    "\n",
    "# Calculate the accuracy\n",
    "accuracy = 100 * correct / total\n",
    "\n",
    "print(f'Training accuracy: {accuracy}%')\n"
   ]
  },
  {
   "cell_type": "code",
   "execution_count": null,
   "metadata": {},
   "outputs": [],
   "source": [
    "print(predicted)\n",
    "print(true_labels)"
   ]
  },
  {
   "cell_type": "code",
   "execution_count": null,
   "metadata": {},
   "outputs": [],
   "source": [
    "\n",
    "report = classification_report(true_labels, predicted)\n",
    "cm = confusion_matrix(true_labels, predicted)\n",
    "\n",
    "print(cm)\n",
    "print(report)"
   ]
  },
  {
   "cell_type": "code",
   "execution_count": null,
   "metadata": {},
   "outputs": [],
   "source": [
    "\n",
    "\n",
    "# The labels for your classes\n",
    "\n",
    "class_names = ['Blue', 'Family', 'Happy', 'Man']\n",
    "\n",
    "plt.figure(figsize=(10,7))\n",
    "\n",
    "sns.heatmap(cm, annot=True, fmt='d', cmap='Oranges', xticklabels=class_names, yticklabels=class_names)\n",
    "\n",
    "\n",
    "plt.title('Confusion Matrix')\n",
    "\n",
    "plt.ylabel('True label')\n",
    "\n",
    "plt.xlabel('Predicted label')\n",
    "\n",
    "\n",
    "plt.show()"
   ]
  },
  {
   "cell_type": "code",
   "execution_count": null,
   "metadata": {},
   "outputs": [],
   "source": [
    "torch.cuda.empty_cache()"
   ]
  },
  {
   "cell_type": "code",
   "execution_count": null,
   "metadata": {},
   "outputs": [],
   "source": [
    "print(\"Active device:\", device)"
   ]
  }
 ],
 "metadata": {
  "kernelspec": {
   "display_name": "IPCV",
   "language": "python",
   "name": "python3"
  },
  "language_info": {
   "codemirror_mode": {
    "name": "ipython",
    "version": 3
   },
   "file_extension": ".py",
   "mimetype": "text/x-python",
   "name": "python",
   "nbconvert_exporter": "python",
   "pygments_lexer": "ipython3",
   "version": "3.6.12"
  },
  "orig_nbformat": 4
 },
 "nbformat": 4,
 "nbformat_minor": 2
}
